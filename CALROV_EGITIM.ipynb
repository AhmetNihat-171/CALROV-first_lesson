{
 "cells": [
  {
   "cell_type": "markdown",
   "id": "9efd66c4",
   "metadata": {},
   "source": [
    "Fonksiyonlar"
   ]
  },
  {
   "cell_type": "code",
   "execution_count": 2,
   "id": "f770c927",
   "metadata": {},
   "outputs": [],
   "source": [
    "def _myfunc():\n",
    "    print(\"Hello\")"
   ]
  },
  {
   "cell_type": "code",
   "execution_count": null,
   "id": "28591aa4",
   "metadata": {},
   "outputs": [],
   "source": [
    "_myfunc()"
   ]
  },
  {
   "cell_type": "code",
   "execution_count": 8,
   "id": "c6c29a3f",
   "metadata": {},
   "outputs": [],
   "source": [
    "def _myfunc2(name):\n",
    "    print(\"Hello \"+ name)"
   ]
  },
  {
   "cell_type": "code",
   "execution_count": null,
   "id": "ca6fec54",
   "metadata": {},
   "outputs": [],
   "source": [
    "_myfunc2(\"CALROV\")"
   ]
  },
  {
   "cell_type": "code",
   "execution_count": null,
   "id": "452061c4",
   "metadata": {},
   "outputs": [],
   "source": [
    "_myfunc2()"
   ]
  },
  {
   "cell_type": "code",
   "execution_count": 10,
   "id": "4e930bc9",
   "metadata": {},
   "outputs": [],
   "source": [
    "def _myfunc3(name=\"default\"):\n",
    "    print(\"Hello \"+ name)"
   ]
  },
  {
   "cell_type": "code",
   "execution_count": null,
   "id": "7b430243",
   "metadata": {},
   "outputs": [],
   "source": [
    "_myfunc3()\n",
    "_myfunc3(\"Yazılım\")\n"
   ]
  },
  {
   "cell_type": "code",
   "execution_count": 14,
   "id": "11b91847",
   "metadata": {},
   "outputs": [],
   "source": [
    "def _myfunc4(name=\"default\", age=\"0\"):\n",
    "    print(\"Hello \"+ str(name))\n",
    "    print (\"your age is \"+str(age))"
   ]
  },
  {
   "cell_type": "code",
   "execution_count": null,
   "id": "e1336592",
   "metadata": {},
   "outputs": [],
   "source": [
    "_myfunc4(\"kaan\",17)\n",
    "_myfunc4(14)\n",
    "_myfunc4(age=14)"
   ]
  },
  {
   "cell_type": "markdown",
   "id": "889c601b",
   "metadata": {},
   "source": [
    "Class"
   ]
  },
  {
   "cell_type": "code",
   "execution_count": null,
   "id": "7d018517",
   "metadata": {},
   "outputs": [],
   "source": [
    "class Human:\n",
    "    def say_hello(self):\n",
    "        print(\"Hello\")"
   ]
  },
  {
   "cell_type": "code",
   "execution_count": null,
   "id": "60c52dbb",
   "metadata": {},
   "outputs": [],
   "source": [
    "a= Human()\n",
    "a.say_hello()"
   ]
  },
  {
   "cell_type": "code",
   "execution_count": 18,
   "id": "e6243f7d",
   "metadata": {},
   "outputs": [],
   "source": [
    "class Human2:\n",
    "    def __init__(self,age,name):\n",
    "        self.age=age\n",
    "        self.name=name\n",
    "    def say_hello_to_someone(self,other_person):\n",
    "        print(\"Hello \"+str(other_person) +\" I am \"+str(self.name))"
   ]
  },
  {
   "cell_type": "code",
   "execution_count": null,
   "id": "605bd445",
   "metadata": {},
   "outputs": [],
   "source": [
    "Man=Human2(17,\"Kaan\")\n",
    "Man.say_hello_to_someone(\"Oğuz\")\n",
    "print(Man.age)"
   ]
  },
  {
   "cell_type": "markdown",
   "id": "3fb727fa",
   "metadata": {},
   "source": [
    "Logging"
   ]
  },
  {
   "cell_type": "code",
   "execution_count": null,
   "id": "08438408",
   "metadata": {},
   "outputs": [],
   "source": [
    "import logging"
   ]
  },
  {
   "cell_type": "code",
   "execution_count": null,
   "id": "ec87df63",
   "metadata": {},
   "outputs": [],
   "source": [
    "logger=logging.getLogger(__name__)\n",
    "logger.debug(\"this is debug\")\n",
    "logger.info(\"this is info\")\n",
    "logger.warning(\"this is warning\")\n",
    "logger.error(\"this is error\")\n",
    "logger.critical(\"this is critical\")"
   ]
  },
  {
   "cell_type": "markdown",
   "id": "fb782067",
   "metadata": {},
   "source": [
    "JSON"
   ]
  },
  {
   "cell_type": "code",
   "execution_count": 23,
   "id": "69e09de0",
   "metadata": {},
   "outputs": [],
   "source": [
    "import json\n",
    "with open(\"exp.JSON\",\"r\") as json_file:\n",
    "    config=json.load(json_file)"
   ]
  },
  {
   "cell_type": "code",
   "execution_count": null,
   "id": "4ae10fad",
   "metadata": {},
   "outputs": [],
   "source": [
    "myname=config[\"firstname\"]\n",
    "print (myname)"
   ]
  },
  {
   "cell_type": "markdown",
   "id": "03c39f42",
   "metadata": {},
   "source": [
    "ENUMS"
   ]
  },
  {
   "cell_type": "code",
   "execution_count": 25,
   "id": "be4f0f3b",
   "metadata": {},
   "outputs": [],
   "source": [
    "from enum import Enum, auto, IntEnum"
   ]
  },
  {
   "cell_type": "code",
   "execution_count": 26,
   "id": "e5f75fbb",
   "metadata": {},
   "outputs": [],
   "source": [
    "class DetectionModel(Enum):\n",
    "    YOLOGENERAL = auto()\n",
    "\n",
    "    TEKNO21OTONOMKAPI = auto()\n",
    "    TEKNO22GATE = auto()\n",
    "    TEKNO22CIRCLE = auto()\n",
    "    TEKNO22PINGER = auto()\n",
    "\n",
    "    SINGAPORE22QGATE = auto()\n",
    "    SINGAPORE22GATE = auto()\n",
    "    SINGAPORE22BALL = auto()\n",
    "    SINGAPORE22DRUM = auto()\n"
   ]
  },
  {
   "cell_type": "code",
   "execution_count": null,
   "id": "086db22c",
   "metadata": {},
   "outputs": [],
   "source": [
    "a=DetectionModel.SINGAPORE22BALL\n",
    "print(a==DetectionModel.SINGAPORE22BALL)"
   ]
  },
  {
   "cell_type": "markdown",
   "id": "0cb07612",
   "metadata": {},
   "source": [
    "Thred and Multiprocessing"
   ]
  },
  {
   "cell_type": "markdown",
   "id": "518e3c2f",
   "metadata": {},
   "source": [
    "Thred\n",
    "\n",
    "PROS\n",
    "+ aynı hafızayı paylaşır\n",
    "+ hafif \n",
    "+ başlatması daha hızlı\n",
    "\n",
    "CONS\n",
    "- GIL limitlemesi\n",
    "- Tamamlama yarışı\n"
   ]
  },
  {
   "cell_type": "markdown",
   "id": "ab8cd37d",
   "metadata": {},
   "source": [
    "MP\n",
    "\n",
    "PROS\n",
    "+ çoklu cpu ve çekirdek kullanımı\n",
    "+ farklı depolama üniteleri\n",
    "+ P. birbirinden bağımsız\n",
    "+ GIL limitasyonu yok\n",
    "\n",
    "CONS\n",
    "- ağır\n",
    "- P. başlatması yavaş\n",
    "- Daha çok hafıza kullanıyor\n",
    "- P.ler arası iletişim karmaşık\n"
   ]
  },
  {
   "cell_type": "code",
   "execution_count": 41,
   "id": "3db9316d",
   "metadata": {},
   "outputs": [],
   "source": [
    "from multiprocessing import Process"
   ]
  },
  {
   "cell_type": "code",
   "execution_count": 42,
   "id": "6216d8ad",
   "metadata": {},
   "outputs": [],
   "source": [
    "def counter():\n",
    "    for i in range(100):\n",
    "        a=i"
   ]
  },
  {
   "cell_type": "code",
   "execution_count": 43,
   "id": "c7170a8e",
   "metadata": {},
   "outputs": [],
   "source": [
    "p1=Process(target=counter)\n",
    "p2=Process(target=counter)\n",
    "p1.start()\n",
    "p2.start()\n",
    "p1.join()\n",
    "p2.join()"
   ]
  },
  {
   "cell_type": "code",
   "execution_count": 68,
   "id": "ecedf508",
   "metadata": {},
   "outputs": [],
   "source": [
    "from threading import Thread, Lock\n",
    "import time\n",
    "value=0"
   ]
  },
  {
   "cell_type": "code",
   "execution_count": 69,
   "id": "c32ed4a5",
   "metadata": {},
   "outputs": [],
   "source": [
    "\n",
    "def increase(_lock):\n",
    "    global value\n",
    "\n",
    "    _lock.acquire()\n",
    "    _value=value\n",
    "    _value+=1\n",
    "    time.sleep(0.1)\n",
    "    value=_value\n",
    "    _lock.release()"
   ]
  },
  {
   "cell_type": "code",
   "execution_count": 70,
   "id": "0f0a82f4",
   "metadata": {},
   "outputs": [
    {
     "name": "stdout",
     "output_type": "stream",
     "text": [
      "2\n"
     ]
    }
   ],
   "source": [
    "lock=Lock()\n",
    "t1=Thread(target=increase, args=(lock,))\n",
    "t2=Thread(target=increase, args=(lock,))\n",
    "\n",
    "t1.start()\n",
    "t2.start()\n",
    "\n",
    "t1.join()\n",
    "t2.join()\n",
    "print(value)"
   ]
  }
 ],
 "metadata": {
  "kernelspec": {
   "display_name": "Python 3",
   "language": "python",
   "name": "python3"
  },
  "language_info": {
   "codemirror_mode": {
    "name": "ipython",
    "version": 3
   },
   "file_extension": ".py",
   "mimetype": "text/x-python",
   "name": "python",
   "nbconvert_exporter": "python",
   "pygments_lexer": "ipython3",
   "version": "3.8.0"
  }
 },
 "nbformat": 4,
 "nbformat_minor": 5
}
